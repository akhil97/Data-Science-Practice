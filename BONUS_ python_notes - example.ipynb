{
 "cells": [
  {
   "metadata": {
    "ExecuteTime": {
     "end_time": "2025-09-15T03:50:12.805589Z",
     "start_time": "2025-09-15T03:50:12.796912Z"
    }
   },
   "cell_type": "code",
   "source": [
    "def make_dict(**kwargs):\n",
    "    return kwargs\n",
    "\n",
    "make_dict(a = 1, b = 2)"
   ],
   "outputs": [
    {
     "data": {
      "text/plain": [
       "{'a': 1, 'b': 2}"
      ]
     },
     "execution_count": 1,
     "metadata": {},
     "output_type": "execute_result"
    }
   ],
   "execution_count": 1
  },
  {
   "metadata": {
    "ExecuteTime": {
     "end_time": "2025-09-15T03:53:00.141723Z",
     "start_time": "2025-09-15T03:53:00.137765Z"
    }
   },
   "cell_type": "code",
   "source": [
    "def add_many(*args):\n",
    "    s = 0\n",
    "    for x in args:\n",
    "        s += x\n",
    "    return s\n",
    "\n",
    "add_many(100, 50, 3)"
   ],
   "outputs": [
    {
     "data": {
      "text/plain": [
       "153"
      ]
     },
     "execution_count": 2,
     "metadata": {},
     "output_type": "execute_result"
    }
   ],
   "execution_count": 2
  },
  {
   "metadata": {
    "ExecuteTime": {
     "end_time": "2025-09-15T03:53:54.946013Z",
     "start_time": "2025-09-15T03:53:54.943640Z"
    }
   },
   "cell_type": "code",
   "source": [
    "this_var = 30\n",
    "\n",
    "def func():\n",
    "    global this_var\n",
    "    this_var = 20\n",
    "    print(this_var)\n",
    "\n",
    "print(this_var)\n",
    "func()\n",
    "print(this_var)"
   ],
   "outputs": [
    {
     "name": "stdout",
     "output_type": "stream",
     "text": [
      "30\n",
      "20\n",
      "20\n"
     ]
    }
   ],
   "execution_count": 3
  },
  {
   "metadata": {
    "ExecuteTime": {
     "end_time": "2025-09-15T03:56:03.045801Z",
     "start_time": "2025-09-15T03:56:03.042847Z"
    }
   },
   "cell_type": "code",
   "source": [
    "def func_docs():\n",
    "    \"\"\"I know how to interact with doc strings of a function\"\"\"\n",
    "    return None\n",
    "\n",
    "func_docs.__doc__\n"
   ],
   "outputs": [
    {
     "data": {
      "text/plain": [
       "'I know how to interact with doc strings of a function'"
      ]
     },
     "execution_count": 7,
     "metadata": {},
     "output_type": "execute_result"
    }
   ],
   "execution_count": 7
  },
  {
   "metadata": {
    "ExecuteTime": {
     "end_time": "2025-09-15T03:56:51.836843Z",
     "start_time": "2025-09-15T03:56:51.833848Z"
    }
   },
   "cell_type": "code",
   "source": [
    "d = {\n",
    "    'a': 1,\n",
    "    'b': 2,\n",
    "    'c': 3,\n",
    "}\n",
    "\n",
    "d.get('a')"
   ],
   "outputs": [
    {
     "data": {
      "text/plain": [
       "1"
      ]
     },
     "execution_count": 9,
     "metadata": {},
     "output_type": "execute_result"
    }
   ],
   "execution_count": 9
  },
  {
   "metadata": {
    "ExecuteTime": {
     "end_time": "2025-09-16T02:34:31.059552Z",
     "start_time": "2025-09-16T02:34:31.055896Z"
    }
   },
   "cell_type": "code",
   "source": [
    "# The strip() method removes any whitespace from the beginning or the end:\n",
    "\n",
    "a = \" Hello, World! \"\n",
    "print(a.strip()) # returns \"Hello, World!\"\n"
   ],
   "outputs": [
    {
     "name": "stdout",
     "output_type": "stream",
     "text": [
      "Hello, World!\n"
     ]
    }
   ],
   "execution_count": 1
  },
  {
   "metadata": {
    "ExecuteTime": {
     "end_time": "2025-09-16T02:35:15.703889Z",
     "start_time": "2025-09-16T02:35:15.700042Z"
    }
   },
   "cell_type": "code",
   "source": [
    "#The split() method splits the string into substrings if it finds instances of the separator:\n",
    "\n",
    "a = \"Hello, World!\"\n",
    "print(a.split(\",\")) # returns ['Hello', ' World!']"
   ],
   "outputs": [
    {
     "name": "stdout",
     "output_type": "stream",
     "text": [
      "['Hello', ' World!']\n"
     ]
    }
   ],
   "execution_count": 2
  },
  {
   "metadata": {
    "ExecuteTime": {
     "end_time": "2025-09-16T02:38:53.361291Z",
     "start_time": "2025-09-16T02:38:53.358938Z"
    }
   },
   "cell_type": "code",
   "source": [
    "#The escape character allows you to use double quotes when you normally would not be allowed:\n",
    "\n",
    "txt = \"We are the so-called \\\"Vikings\\\" from the north.\"\n",
    "print(txt)"
   ],
   "outputs": [
    {
     "name": "stdout",
     "output_type": "stream",
     "text": [
      "We are the so-called \"Vikings\" from the north.\n"
     ]
    }
   ],
   "execution_count": 4
  },
  {
   "metadata": {
    "ExecuteTime": {
     "end_time": "2025-09-21T02:51:39.695804Z",
     "start_time": "2025-09-21T02:51:39.692337Z"
    }
   },
   "cell_type": "code",
   "source": [
    "from collections import Counter\n",
    "\n",
    "# Creating Counter from a list (sequence of items)\n",
    "print(Counter(['B','B','A','B','C','A','B','B','A','C']))\n",
    "\n",
    "# Creating Counter from a dictionary\n",
    "print(Counter({'A':3, 'B':5, 'C':2}))\n",
    "\n",
    "# Creating Counter using keyword arguments\n",
    "print(Counter(A=3, B=5, C=2))"
   ],
   "outputs": [
    {
     "name": "stdout",
     "output_type": "stream",
     "text": [
      "Counter({'B': 5, 'A': 3, 'C': 2})\n",
      "Counter({'B': 5, 'A': 3, 'C': 2})\n",
      "Counter({'B': 5, 'A': 3, 'C': 2})\n"
     ]
    }
   ],
   "execution_count": 1
  },
  {
   "metadata": {
    "ExecuteTime": {
     "end_time": "2025-09-21T02:52:13.248731Z",
     "start_time": "2025-09-21T02:52:13.245631Z"
    }
   },
   "cell_type": "code",
   "source": [
    "from collections import OrderedDict\n",
    "print(\"This is a Dict:\\n\")\n",
    "d = {}\n",
    "d['a'] = 1\n",
    "d['b'] = 2\n",
    "d['c'] = 3\n",
    "d['d'] = 4\n",
    "\n",
    "for key, value in d.items():\n",
    "    print(key, value)\n",
    "\n",
    "print(\"\\nThis is an Ordered Dict:\\n\")\n",
    "od = OrderedDict()\n",
    "od['a'] = 1\n",
    "od['b'] = 2\n",
    "od['c'] = 3\n",
    "od['d'] = 4\n",
    "\n",
    "for key, value in od.items():\n",
    "    print(key, value)"
   ],
   "outputs": [
    {
     "name": "stdout",
     "output_type": "stream",
     "text": [
      "This is a Dict:\n",
      "\n",
      "a 1\n",
      "b 2\n",
      "c 3\n",
      "d 4\n",
      "\n",
      "This is an Ordered Dict:\n",
      "\n",
      "a 1\n",
      "b 2\n",
      "c 3\n",
      "d 4\n"
     ]
    }
   ],
   "execution_count": 2
  },
  {
   "metadata": {
    "ExecuteTime": {
     "end_time": "2025-09-21T02:52:35.710631Z",
     "start_time": "2025-09-21T02:52:35.707858Z"
    }
   },
   "cell_type": "code",
   "source": [
    "from collections import defaultdict\n",
    "\n",
    "# Creating a defaultdict with default value of 0 (int)\n",
    "d = defaultdict(int)\n",
    "L = [1, 2, 3, 4, 2, 4, 1, 2]\n",
    "\n",
    "# Counting occurrences of each element in the list\n",
    "for i in L:\n",
    "    d[i] += 1  # No need to check key existence; default is 0\n",
    "\n",
    "print(d)"
   ],
   "outputs": [
    {
     "name": "stdout",
     "output_type": "stream",
     "text": [
      "defaultdict(<class 'int'>, {1: 2, 2: 3, 3: 1, 4: 2})\n"
     ]
    }
   ],
   "execution_count": 3
  },
  {
   "metadata": {
    "ExecuteTime": {
     "end_time": "2025-09-21T02:53:09.732608Z",
     "start_time": "2025-09-21T02:53:09.729513Z"
    }
   },
   "cell_type": "code",
   "source": [
    "from collections import defaultdict\n",
    "\n",
    "# Defining a dict\n",
    "d = defaultdict(list)\n",
    "\n",
    "for i in range(5):\n",
    "    d[i].append(i)\n",
    "\n",
    "print(\"Dictionary with values as list:\")\n",
    "print(d)"
   ],
   "outputs": [
    {
     "name": "stdout",
     "output_type": "stream",
     "text": [
      "Dictionary with values as list:\n",
      "defaultdict(<class 'list'>, {0: [0], 1: [1], 2: [2], 3: [3], 4: [4]})\n"
     ]
    }
   ],
   "execution_count": 4
  },
  {
   "metadata": {
    "ExecuteTime": {
     "end_time": "2025-09-21T02:53:35.478549Z",
     "start_time": "2025-09-21T02:53:35.475926Z"
    }
   },
   "cell_type": "code",
   "source": [
    "from collections import ChainMap\n",
    "\n",
    "d1 = {'a': 1, 'b': 2}\n",
    "d2 = {'c': 3, 'd': 4}\n",
    "d3 = {'e': 5, 'f': 6}\n",
    "\n",
    "# Defining the chainmap\n",
    "c = ChainMap(d1, d2, d3)\n",
    "print(c)"
   ],
   "outputs": [
    {
     "name": "stdout",
     "output_type": "stream",
     "text": [
      "ChainMap({'a': 1, 'b': 2}, {'c': 3, 'd': 4}, {'e': 5, 'f': 6})\n"
     ]
    }
   ],
   "execution_count": 5
  },
  {
   "metadata": {
    "ExecuteTime": {
     "end_time": "2025-09-21T02:54:18.323870Z",
     "start_time": "2025-09-21T02:54:18.321217Z"
    }
   },
   "cell_type": "code",
   "source": [
    "from collections import ChainMap\n",
    "d1 = {'a': 1, 'b': 2}\n",
    "d2 = {'c': 3, 'd': 4}\n",
    "d3 = {'e': 5, 'f': 6}\n",
    "\n",
    "# Defining the chainmap\n",
    "c = ChainMap(d1, d2, d3)\n",
    "\n",
    "# Accessing Values using key name\n",
    "print(c['a'])\n",
    "\n",
    "# Accessing values using values()\n",
    "print(c.values())\n",
    "\n",
    "# Accessing keys using keys()\n",
    "print(c.keys())"
   ],
   "outputs": [
    {
     "name": "stdout",
     "output_type": "stream",
     "text": [
      "1\n",
      "ValuesView(ChainMap({'a': 1, 'b': 2}, {'c': 3, 'd': 4}, {'e': 5, 'f': 6}))\n",
      "KeysView(ChainMap({'a': 1, 'b': 2}, {'c': 3, 'd': 4}, {'e': 5, 'f': 6}))\n"
     ]
    }
   ],
   "execution_count": 6
  },
  {
   "metadata": {
    "ExecuteTime": {
     "end_time": "2025-09-21T02:54:41.073253Z",
     "start_time": "2025-09-21T02:54:41.070019Z"
    }
   },
   "cell_type": "code",
   "source": [
    "import collections\n",
    "\n",
    "# initializing dictionaries\n",
    "dic1 = { 'a' : 1, 'b' : 2 }\n",
    "dic2 = { 'b' : 3, 'c' : 4 }\n",
    "dic3 = { 'f' : 5 }\n",
    "\n",
    "# initializing ChainMap\n",
    "chain = collections.ChainMap(dic1, dic2)\n",
    "\n",
    "# printing chainMap\n",
    "print (\"All the ChainMap contents are: \")\n",
    "print (chain)\n",
    "\n",
    "# using new_child() to add new dictionary\n",
    "chain1 = chain.new_child(dic3)\n",
    "\n",
    "# printing chainMap\n",
    "print (\"Displaying new ChainMap : \")\n",
    "print (chain1)"
   ],
   "outputs": [
    {
     "name": "stdout",
     "output_type": "stream",
     "text": [
      "All the ChainMap contents are: \n",
      "ChainMap({'a': 1, 'b': 2}, {'b': 3, 'c': 4})\n",
      "Displaying new ChainMap : \n",
      "ChainMap({'f': 5}, {'a': 1, 'b': 2}, {'b': 3, 'c': 4})\n"
     ]
    }
   ],
   "execution_count": 7
  },
  {
   "metadata": {
    "ExecuteTime": {
     "end_time": "2025-09-21T02:55:05.629950Z",
     "start_time": "2025-09-21T02:55:05.619627Z"
    }
   },
   "cell_type": "code",
   "source": [
    "from collections import namedtuple\n",
    "\n",
    "# Declaring namedtuple()\n",
    "Student = namedtuple('Student',['name','age','DOB'])\n",
    "\n",
    "# Adding values\n",
    "S = Student('Nandini','19','2541997')\n",
    "\n",
    "# Access using index\n",
    "print (\"The Student age using index is : \",end =\"\")\n",
    "print (S[1])\n",
    "\n",
    "# Access using name\n",
    "print (\"The Student name using keyname is : \",end =\"\")\n",
    "print (S.name)"
   ],
   "outputs": [
    {
     "name": "stdout",
     "output_type": "stream",
     "text": [
      "The Student age using index is : 19\n",
      "The Student name using keyname is : Nandini\n"
     ]
    }
   ],
   "execution_count": 8
  },
  {
   "metadata": {
    "ExecuteTime": {
     "end_time": "2025-09-21T02:55:31.452970Z",
     "start_time": "2025-09-21T02:55:31.449833Z"
    }
   },
   "cell_type": "code",
   "source": [
    "from collections import namedtuple\n",
    "\n",
    "# Declaring namedtuple()\n",
    "Student = namedtuple('Student',['name','age','DOB'])\n",
    "\n",
    "# Adding values\n",
    "S = Student('Nandini','19','2541997')\n",
    "\n",
    "# initializing iterable\n",
    "li = ['Manjeet', '19', '411997' ]\n",
    "\n",
    "# initializing dict\n",
    "di = { 'name' : \"Nikhil\", 'age' : 19 , 'DOB' : '1391997' }\n",
    "\n",
    "# using _make() to return namedtuple()\n",
    "print (\"The namedtuple instance using iterable is  : \")\n",
    "print (Student._make(li))\n",
    "\n",
    "# using _asdict() to return an OrderedDict()\n",
    "print (\"The OrderedDict instance using namedtuple is  : \")\n",
    "print (S._asdict())"
   ],
   "outputs": [
    {
     "name": "stdout",
     "output_type": "stream",
     "text": [
      "The namedtuple instance using iterable is  : \n",
      "Student(name='Manjeet', age='19', DOB='411997')\n",
      "The OrderedDict instance using namedtuple is  : \n",
      "{'name': 'Nandini', 'age': '19', 'DOB': '2541997'}\n"
     ]
    }
   ],
   "execution_count": 9
  },
  {
   "metadata": {
    "ExecuteTime": {
     "end_time": "2025-09-21T02:56:25.571364Z",
     "start_time": "2025-09-21T02:56:25.569049Z"
    }
   },
   "cell_type": "code",
   "source": [
    "from collections import deque\n",
    "\n",
    "# Declaring deque\n",
    "queue = deque(['name','age','DOB'])\n",
    "print(queue)"
   ],
   "outputs": [
    {
     "name": "stdout",
     "output_type": "stream",
     "text": [
      "deque(['name', 'age', 'DOB'])\n"
     ]
    }
   ],
   "execution_count": 10
  },
  {
   "metadata": {
    "ExecuteTime": {
     "end_time": "2025-09-21T02:56:34.901841Z",
     "start_time": "2025-09-21T02:56:34.892839Z"
    }
   },
   "cell_type": "code",
   "source": [
    "from collections import deque\n",
    "\n",
    "# Initializing deque with initial values\n",
    "de = deque([1, 2, 3])\n",
    "\n",
    "# Append 4 to the right end of deque\n",
    "de.append(4)\n",
    "\n",
    "# Print deque after appending to the right\n",
    "print(\"The deque after appending at right is :\")\n",
    "print(de)\n",
    "\n",
    "# Append 6 to the left end of deque\n",
    "de.appendleft(6)\n",
    "\n",
    "# Print deque after appending to the left\n",
    "print(\"The deque after appending at left is :\")\n",
    "print(de)"
   ],
   "outputs": [
    {
     "name": "stdout",
     "output_type": "stream",
     "text": [
      "The deque after appending at right is :\n",
      "deque([1, 2, 3, 4])\n",
      "The deque after appending at left is :\n",
      "deque([6, 1, 2, 3, 4])\n"
     ]
    }
   ],
   "execution_count": 11
  },
  {
   "metadata": {},
   "cell_type": "code",
   "outputs": [],
   "execution_count": null,
   "source": ""
  },
  {
   "cell_type": "markdown",
   "metadata": {
    "id": "mnLbi8srlUA2"
   },
   "source": [
    "# Mistakes and tricks for Python\n",
    "\n",
    "## Jaret's Mistakes\n",
    "- you cannot change i in a for loop => use a while loop\n",
    "- the question asked to get every second object in a list starting with item `1` (odd numbers)\n",
    "    - use `i % 2 != 0`\n",
    "- to create an empty dict `dict_name = {}`\n",
    "- you cannot subtract two lists\n",
    "- `bool(\"fsdf\")` - I thought it would convert it to a bool but it check if the str exists such as not `None` or empty\n",
    "    - I thought it woudl change `bool(\"False\")` => to `False`\n",
    "\n",
    "- Always test your method/function before you test it in the app.\n",
    "- range - does not run the stop interation, you must do +1\n",
    "- **Diving into the problem before using an example on paper or on your get**\n",
    "- You have to use `sorted()` not `sort()` for string \n",
    "    - when you `sorted()` it sored by char (case sensitive)\n",
    "    - `sorted()` has a param of `key=` that takes a str function (e.g. `lower()`, `casefold()`)\n",
    "\n",
    "\n",
    "## Python Tricks\n",
    "- `range` does not include the last number so if you want it to have no range you can use the same number `range(2,2)` \n",
    "- for dict you can use `dict_name[key]`\n",
    "- you can add two lists\n",
    "- `Counter` from `collection` lib is very helpful for a hashable dict function to count freq\n",
    "- variable inline if statements\n",
    "    - `var = <value> if <statement> else <value>`\n",
    "    - Trick if you want  it to be `False` you can do `var = var1 != var2 if var1 else True`\n",
    "- You can use `' '.join(list_)` have a string seperated by space for the items in the list\n",
    "\n",
    "\n",
    "## Regular expressions (Regex) in python\n",
    "\n",
    "\n",
    "## Coding question Tips\n",
    "- think about your solution as it pertains to the `output` required\n",
    "    - if they are asking for the returned output of a `number, boolean (or equivalent)` think about using a math not sorting or adjusting a list \n",
    "\n",
    "## Todo List\n",
    "- read python `collections` in spare time\n",
    "- read python `itertools` in spare time\n",
    "- Get better a running python not in a notebook\n",
    "    - console\n",
    "    - debug\n",
    "\n",
    "\n",
    "\n"
   ]
  },
  {
   "metadata": {
    "ExecuteTime": {
     "end_time": "2025-09-19T16:54:43.884968Z",
     "start_time": "2025-09-19T16:54:29.473025Z"
    }
   },
   "cell_type": "code",
   "source": [
    "# String mutation is not supported in Python.\n",
    "# string[position] = character will throw an error. Instead do this:-\n",
    "def mutate_string(string, position, character):\n",
    "    l = list(string)\n",
    "    l[position] = character\n",
    "    new_string = \"\".join(l)\n",
    "    return new_string\n",
    "\n",
    "if __name__ == '__main__':\n",
    "    s = input()\n",
    "    i, c = input().split()\n",
    "    s_new = mutate_string(s, int(i), c)\n",
    "    print(s_new)"
   ],
   "outputs": [
    {
     "name": "stdout",
     "output_type": "stream",
     "text": [
      "abrackdabra\n",
      "\n"
     ]
    }
   ],
   "execution_count": 3
  },
  {
   "metadata": {
    "ExecuteTime": {
     "end_time": "2025-09-22T03:28:28.061341Z",
     "start_time": "2025-09-22T03:28:28.051546Z"
    }
   },
   "cell_type": "code",
   "source": [
    "def start_end_decorator(func):\n",
    "\n",
    "    def wrapper():\n",
    "        print('Start')\n",
    "        func()\n",
    "        print('End')\n",
    "    return wrapper\n",
    "\n",
    "@start_end_decorator\n",
    "def print_name():\n",
    "    print('Alex')\n",
    "\n",
    "#print_name = start_end_decorator(print_name)\n",
    "print_name()"
   ],
   "outputs": [
    {
     "name": "stdout",
     "output_type": "stream",
     "text": [
      "Start\n",
      "Alex\n",
      "End\n"
     ]
    }
   ],
   "execution_count": 4
  },
  {
   "metadata": {
    "ExecuteTime": {
     "end_time": "2025-10-15T21:53:25.808350Z",
     "start_time": "2025-10-15T21:53:25.804341Z"
    }
   },
   "cell_type": "code",
   "source": [
    "import functools\n",
    "\n",
    "def repeat(num_times):\n",
    "    def decorator_repeat(func):\n",
    "        @functools.wraps(func)\n",
    "        def wrapper(*args, **kwargs):\n",
    "            for _ in range(num_times):\n",
    "                result = func(*args, **kwargs)\n",
    "            return result\n",
    "        return wrapper\n",
    "    return decorator_repeat\n",
    "\n",
    "@repeat(num_times=3)\n",
    "def greet(name):\n",
    "    print('Hello', name)\n",
    "\n",
    "greet('Akhil')\n"
   ],
   "outputs": [
    {
     "name": "stdout",
     "output_type": "stream",
     "text": [
      "Hello Akhil\n",
      "Hello Akhil\n",
      "Hello Akhil\n"
     ]
    }
   ],
   "execution_count": 1
  },
  {
   "metadata": {
    "ExecuteTime": {
     "end_time": "2025-10-15T23:26:53.687655Z",
     "start_time": "2025-10-15T23:26:53.684174Z"
    }
   },
   "cell_type": "code",
   "source": [
    "from itertools import product\n",
    "print(list(product([1, 2], [3, 4])))\n",
    "print(list(product([0, 1], repeat=3)))\n",
    "print(list(product(\"AB\", \"CD\")))\n",
    "for i in product([1, 2], ['a', 'b']):\n",
    "    print(i)"
   ],
   "outputs": [
    {
     "name": "stdout",
     "output_type": "stream",
     "text": [
      "[(1, 3), (1, 4), (2, 3), (2, 4)]\n",
      "[(0, 0, 0), (0, 0, 1), (0, 1, 0), (0, 1, 1), (1, 0, 0), (1, 0, 1), (1, 1, 0), (1, 1, 1)]\n",
      "[('A', 'C'), ('A', 'D'), ('B', 'C'), ('B', 'D')]\n",
      "(1, 'a')\n",
      "(1, 'b')\n",
      "(2, 'a')\n",
      "(2, 'b')\n"
     ]
    }
   ],
   "execution_count": 3
  },
  {
   "metadata": {
    "ExecuteTime": {
     "end_time": "2025-10-15T23:30:22.067397Z",
     "start_time": "2025-10-15T23:30:22.064486Z"
    }
   },
   "cell_type": "code",
   "source": [
    "# import the product function from itertools module\n",
    "from itertools import permutations\n",
    "\n",
    "print(\"All the permutations of the given list is:\")\n",
    "print(list(permutations([1, 'geeks'], 2)))\n",
    "print()\n",
    "\n",
    "print(\"All the permutations of the given string is:\")\n",
    "print(list(permutations('AB')))\n",
    "print()\n",
    "\n",
    "print(\"All the permutations of the given container is:\")\n",
    "print(list(permutations(range(3), 2)))"
   ],
   "outputs": [
    {
     "name": "stdout",
     "output_type": "stream",
     "text": [
      "All the permutations of the given list is:\n",
      "[(1, 'geeks'), ('geeks', 1)]\n",
      "\n",
      "All the permutations of the given string is:\n",
      "[('A', 'B'), ('B', 'A')]\n",
      "\n",
      "All the permutations of the given container is:\n",
      "[(0, 1), (0, 2), (1, 0), (1, 2), (2, 0), (2, 1)]\n"
     ]
    }
   ],
   "execution_count": 4
  },
  {
   "metadata": {
    "ExecuteTime": {
     "end_time": "2025-10-15T23:31:13.081562Z",
     "start_time": "2025-10-15T23:31:13.078941Z"
    }
   },
   "cell_type": "code",
   "source": [
    "# import combinations from itertools module\n",
    "\n",
    "from itertools import combinations\n",
    "\n",
    "print (\"All the combination of list in sorted order(without replacement) is:\")\n",
    "print(list(combinations(['A', 2], 2)))\n",
    "print()\n",
    "\n",
    "print (\"All the combination of string in sorted order(without replacement) is:\")\n",
    "print(list(combinations('AB', 2)))\n",
    "print()\n",
    "\n",
    "print (\"All the combination of list in sorted order(without replacement) is:\")\n",
    "print(list(combinations(range(2), 1)))"
   ],
   "outputs": [
    {
     "name": "stdout",
     "output_type": "stream",
     "text": [
      "All the combination of list in sorted order(without replacement) is:\n",
      "[('A', 2)]\n",
      "\n",
      "All the combination of string in sorted order(without replacement) is:\n",
      "[('A', 'B')]\n",
      "\n",
      "All the combination of list in sorted order(without replacement) is:\n",
      "[(0,), (1,)]\n"
     ]
    }
   ],
   "execution_count": 6
  },
  {
   "metadata": {
    "ExecuteTime": {
     "end_time": "2025-10-15T23:31:06.657701Z",
     "start_time": "2025-10-15T23:31:06.654499Z"
    }
   },
   "cell_type": "code",
   "source": [
    "# import combinations from itertools module\n",
    "\n",
    "from itertools import combinations_with_replacement\n",
    "\n",
    "print(\"All the combination of string in sorted order(with replacement) is:\")\n",
    "print(list(combinations_with_replacement(\"AB\", 2)))\n",
    "print()\n",
    "\n",
    "print(\"All the combination of list in sorted order(with replacement) is:\")\n",
    "print(list(combinations_with_replacement([1, 2], 2)))\n",
    "print()\n",
    "\n",
    "print(\"All the combination of container in sorted order(with replacement) is:\")\n",
    "print(list(combinations_with_replacement(range(2), 1)))"
   ],
   "outputs": [
    {
     "name": "stdout",
     "output_type": "stream",
     "text": [
      "All the combination of string in sorted order(with replacement) is:\n",
      "[('A', 'A'), ('A', 'B'), ('B', 'B')]\n",
      "\n",
      "All the combination of list in sorted order(with replacement) is:\n",
      "[(1, 1), (1, 2), (2, 2)]\n",
      "\n",
      "All the combination of container in sorted order(with replacement) is:\n",
      "[(0,), (1,)]\n"
     ]
    }
   ],
   "execution_count": 5
  },
  {
   "metadata": {
    "ExecuteTime": {
     "end_time": "2025-10-16T00:02:43.544649Z",
     "start_time": "2025-10-16T00:02:43.463802Z"
    }
   },
   "cell_type": "code",
   "source": [
    "import numpy as np\n",
    "\n",
    "arr = np.array([1, 2, 3, 4, 5, 6, 7, 8])\n",
    "\n",
    "x = np.where(arr%2 == 0)\n",
    "\n",
    "print(x)"
   ],
   "outputs": [
    {
     "name": "stdout",
     "output_type": "stream",
     "text": [
      "(array([1, 3, 5, 7]),)\n"
     ]
    }
   ],
   "execution_count": 8
  },
  {
   "metadata": {
    "ExecuteTime": {
     "end_time": "2025-10-16T00:03:41.237066Z",
     "start_time": "2025-10-16T00:03:41.227108Z"
    }
   },
   "cell_type": "code",
   "source": [
    "arr = np.array([1, 3, 5, 7])\n",
    "\n",
    "x = np.searchsorted(arr, [2, 4, 6])\n",
    "\n",
    "print(x)\n",
    "\n",
    "arr = np.array([[3, 2, 4], [5, 0, 1]])\n",
    "\n",
    "print(np.sort(arr))"
   ],
   "outputs": [
    {
     "name": "stdout",
     "output_type": "stream",
     "text": [
      "[1 2 3]\n",
      "[[2 3 4]\n",
      " [0 1 5]]\n"
     ]
    }
   ],
   "execution_count": 10
  },
  {
   "metadata": {
    "ExecuteTime": {
     "end_time": "2025-10-16T19:33:38.680581Z",
     "start_time": "2025-10-16T19:33:38.675311Z"
    }
   },
   "cell_type": "code",
   "source": [
    "def outer_function(x):\n",
    "    # Outer function: takes 'x' and defines inner_function\n",
    "    def inner_function(y):\n",
    "        return x + y  # 'x' is remembered from outer_function\n",
    "    return inner_function  # Returns inner function (closure)\n",
    "\n",
    "# Create a closure with x = 10\n",
    "closure = outer_function(10)\n",
    "\n",
    "# Call the closure with different values of 'y'\n",
    "print(closure(5))\n",
    "print(closure(20))"
   ],
   "outputs": [
    {
     "name": "stdout",
     "output_type": "stream",
     "text": [
      "15\n",
      "30\n"
     ]
    }
   ],
   "execution_count": 1
  },
  {
   "metadata": {},
   "cell_type": "markdown",
   "source": "![image.png](attachment:cde6b560-6d34-46e6-b61b-60b4c41412a8.png)",
   "attachments": {
    "cde6b560-6d34-46e6-b61b-60b4c41412a8.png": {
     "image/png": "[encoded data removed]"
    }
   }
  },
  {
   "metadata": {
    "ExecuteTime": {
     "end_time": "2025-10-16T19:58:31.476142Z",
     "start_time": "2025-10-16T19:58:31.473153Z"
    }
   },
   "cell_type": "code",
   "source": [
    "class MathOperations:\n",
    "    @staticmethod\n",
    "    def add(x, y):\n",
    "        return x + y\n",
    "\n",
    "# Using the static method\n",
    "res = MathOperations.add(5, 3)\n",
    "print(res)"
   ],
   "outputs": [
    {
     "name": "stdout",
     "output_type": "stream",
     "text": [
      "8\n"
     ]
    }
   ],
   "execution_count": 2
  },
  {
   "metadata": {
    "ExecuteTime": {
     "end_time": "2025-10-16T19:59:36.637148Z",
     "start_time": "2025-10-16T19:59:36.630446Z"
    }
   },
   "cell_type": "code",
   "source": [
    "class Circle:\n",
    "    def __init__(self, radius):\n",
    "        self._radius = radius\n",
    "\n",
    "    @property\n",
    "    def radius(self):\n",
    "        return self._radius\n",
    "\n",
    "    @radius.setter\n",
    "    def radius(self, value):\n",
    "        if value >= 0:\n",
    "            self._radius = value\n",
    "        else:\n",
    "            raise ValueError(\"Radius cannot be negative\")\n",
    "\n",
    "    @property\n",
    "    def area(self):\n",
    "        return 3.14159 * (self._radius ** 2)\n",
    "\n",
    "# Using the property\n",
    "c = Circle(5)\n",
    "print(c.radius)\n",
    "print(c.area)\n",
    "c.radius = 10\n",
    "print(c.area)"
   ],
   "outputs": [
    {
     "name": "stdout",
     "output_type": "stream",
     "text": [
      "5\n",
      "78.53975\n",
      "314.159\n"
     ]
    }
   ],
   "execution_count": 3
  },
  {
   "metadata": {
    "ExecuteTime": {
     "end_time": "2025-10-16T19:59:50.212878Z",
     "start_time": "2025-10-16T19:59:50.207750Z"
    }
   },
   "cell_type": "code",
   "source": [
    "def decor1(func):\n",
    "    def inner():\n",
    "        x = func()\n",
    "        return x * x\n",
    "    return inner\n",
    "\n",
    "def decor(func):\n",
    "    def inner():\n",
    "        x = func()\n",
    "        return 2 * x\n",
    "    return inner\n",
    "\n",
    "@decor1\n",
    "@decor\n",
    "def num():\n",
    "    return 10\n",
    "\n",
    "@decor\n",
    "@decor1\n",
    "def num2():\n",
    "    return 10\n",
    "\n",
    "print(num())\n",
    "print(num2())"
   ],
   "outputs": [
    {
     "name": "stdout",
     "output_type": "stream",
     "text": [
      "400\n",
      "200\n"
     ]
    }
   ],
   "execution_count": 4
  },
  {
   "cell_type": "markdown",
   "metadata": {
    "id": "8-o-2KRzlUBE"
   },
   "source": [
    "## About Python in general\n",
    "\n",
    "- Interpreted language\n",
    "- Scripting language and OOP language\n",
    "- Dynamically typed program\n",
    "\n",
    "\n",
    "### Python paramaters \n",
    "\n",
    "- `**kwargs` - refers to key word args. meaning I can pass a key:value pair like `temp = Employee(name=\"Jaret\")` assuming Employee `def __init__(self, **kwargs):`\n",
    "- `*args` - allows you to pass any desired number of arguments to the function, and can be different number of args for each object"
   ]
  },
  {
   "cell_type": "markdown",
   "metadata": {
    "id": "ozayvVc-lUBi"
   },
   "source": [
    "## Python typing checking\n",
    "\n",
    "- python is dynamic typing - meaning a variable can change types at run time\n",
    "\n",
    "### Duck typing\n",
    "\n",
    "- It comes from the saying \"if it quack like a duck and walks like a duck, it is a duck\"\n",
    "- a concept related to dynamic typing \n",
    "\n",
    "### Type hinting\n",
    "\n",
    "- in the parameter you can add hints to say what the type should be\n",
    "- syntax: `def func(param: type)`, `def func() -> str:` and `def func(param: type = True)`\n",
    "- does not effect run time\n",
    "- doesn force check\n",
    "- is it more for clarity and using functions in IDE's\n",
    "- you can use Mypy package to run scripts and check the type hints\n",
    "- mainly for documentation\n",
    "- Really help you with IDE, modular programming and functional programming\n",
    "- maintain clear code\n",
    "- mainly used in python 3\n",
    "- can vision the type flow of an app really quickly\n",
    "- CON: you might have to add more imports to a module\n",
    "\n",
    "### Annotations\n",
    "\n",
    "## Python stop words\n",
    "\n",
    "- `break` - end the loop or \"end\" the current most inner loop\n",
    "- `pass` - just carry on, you don't want a code to execute\n",
    "- `continue` - forces loop to continue to the next iteration \n",
    "- `return` - \n",
    "\n",
    "\n",
    "## Compound Data types\n",
    "\n",
    "- List are mutatable\n",
    "- tuples are immutable\n",
    "\n",
    "## Python Collections\n",
    "\n",
    "- `OrderedDict` - Keeps the order as they were inserted\n",
    "- `Counter` - Counts the frequency of the items in the object\n",
    "\n",
    "## Python command line tricks\n",
    "\n",
    "- `dir()` - Looks inside python object to see what atrributes it has (help for notebooks)\n",
    "    - You can use this to see the global variables and all the built-in-pyton variables \n",
    "    - \n",
    "    ```\n",
    "    # file: module1.py\n",
    "\n",
    "    x = 24\n",
    "    \n",
    "    def my_func():\n",
    "        print(__file__)\n",
    "\n",
    "    >>> import module1\n",
    "\n",
    "    >>> dir(module1)\n",
    "    [__builtins__', '__cached__', '__doc__', '__file__', '__loader__', '__name__', '__packages__', '__spec__', 'my_func', 'x'}]\n",
    "\n",
    "    ```\n",
    "- `help(module_name)`\n",
    "\n",
    "\n",
    "\n"
   ]
  },
  {
   "cell_type": "markdown",
   "metadata": {
    "id": "iR3Wx5mrlUBn"
   },
   "source": [
    "# Object Orientation Programming in Python\n",
    "\n",
    "- the `__init__(self, ...)` is not actually a contructor, it's like a constructor\n",
    "    - The class is already contructed at run compile time this initializes it\n",
    "\n",
    "- instance arttributes (object variables) with `_` in front tells the developers it's a internal attribute only\n",
    "    - python doesn't force this, so this is a way to do \n",
    "    - like \"private\" in java\n",
    "    - you can use it in instance methods when the attribute is not initialized in the `__init__`\n",
    "\n",
    "- arttributes with `__` cannot be accessed outside the class (Eg. `__secret`)\n",
    "    - you can put it in `__init__`\n",
    "    - \"name mangling\"\n",
    "    - There are ways around it `print(_book.__secret)` by using an `_` before the object call\n",
    "- In python every class is inherated from the object class\n",
    "\n",
    "- class properties or attributes are all caps `BOOK_TYPES` shared by all instances\n",
    "\n",
    "- `@classmethod` decorator - work on the either class, modify the class\n",
    "- instance methods - work on the instances, modify the object\n",
    "- `@staticmethod` decorator - don't modify either the class or the object state\n",
    "    - Are that many great use cases\n",
    "    - Good to use as a globle function as a namespace to a class\n",
    "\n",
    "- `hasattr(self, \"attr_name\")` - is to check if the object has the attribute\n",
    "\n",
    "\n",
    "- singleton variable/object - means there can only ever be one of that type created at a time\n",
    "\n",
    "\n",
    "## Abstract classes\n",
    "\n",
    "- Is a template for the children classes \n",
    "- has methods that force the children to implement those methods or errors\n",
    "\n",
    "- `from abc import ABC, abstractmethod` \n",
    "\n",
    "    - use `ABC` as the base class for inheritance for the class you want to be an abstract\n",
    "    - `@abstractmethod` decorator - forces children to implement method\n",
    "\n",
    "## Multiple inheritance\n",
    "\n",
    "- The order matters for multiple inheritance - first one in the list is prioritized\n",
    "\n",
    "- \"method resolution order\" - is how python choose a class to check for the varible \n",
    "    - 1)self 2) list of inheritances from left to right\n",
    "\n",
    "- Not that useful in python in general \n",
    "- Very useful for interfaces\n",
    "\n",
    "## Interfaces\n",
    "\n",
    "- python does not support this explictiatlly \n",
    "- think of it as a promise or contract\n",
    "- An interface is composed of which two items? - multiple inheritance and abstract base classes\n",
    "\n",
    "## Composition\n",
    "\n",
    "- is a class \"that has\" other objects as their attributes\n",
    "- inheritance & composition is not mutulally exclusive\n",
    "\n",
    "## magic methods\n",
    "- customiuze objects\n",
    "- how the object is represented as a string\n",
    "- compare functions\n",
    "- `__str__` - user friendly version to show the object, typically for printing\n",
    "    - call with `str()`\n",
    "-`__repr__` - is used to recretate the object in it's current state, typically used for debugging\n",
    "    - call with `repr()`\n",
    "- Equality magic methods\n",
    "    - `__eq__` - to compare two object's attributes are the same\n",
    "    - `__ge__` - \"greater than or equal to\" function to compare objects\n",
    "    - `__lt__` - \"less than\" function to compare objects\n",
    "    - these magic methods allows objects to be sorted\n",
    "    - find more in the python documentst called \"special methods\"\n",
    "- `__setattr__`\n",
    "- `__getattr__`\n",
    "- `__call__` - can change the attributes but the call function \n",
    "    - if the ojbect is call b1 then you can `b1(\"attribute 1\", 10 )` to change the values\n",
    "    - this is great when you have a object that changes often or the attributes change together\n",
    "\n",
    "## Data classes \n",
    "\n",
    "- from pyhton 3.7+ you can use `dataclasses` to automate the attributes in a class\n",
    "- The `@dataclass` decorator \n",
    "    - to remove the `__init__` class\n",
    "    - take the attributes and then make them like a class variables (similar to java) but they are instance variables\n",
    "    - then add the type hints\n",
    "    - e.g. `title: str`\n",
    "    - you can also add the default values\n",
    "- automatically creates `__repr__` and the `__eq__` methods\n",
    "- allows you to write more concise code and remove the boiler plate code\n",
    "- `def __post_init__(self)`\n",
    "    - this is for when you create an object but a different instance variable depends on another but you would typically do this in the `__init__()`\n",
    "- You can set an instance variable to an outside the class function with `field` imported from `dataclasses`\n",
    "    - `price: float = field(defualt_factory=price_func)`\n",
    "- you can make an imutable class with `@dataclass(frozen=True)` in the decorator\n",
    "    - this guarentees the data to not change\n"
   ]
  },
  {
   "cell_type": "markdown",
   "metadata": {
    "id": "JpFhBsYvlUBv"
   },
   "source": [
    "## Special Python variables\n",
    "\n",
    "- any variable that starts with \"_\" is not imported (E.g. `_x = 56`)\n",
    "\n",
    "- `__name__` - \n",
    "    - In python you can export a script as a module in another script\n",
    "    - When you run it equals `__main__`\n",
    "    - When you import the containing script, it will equal the name of the script\n",
    "    - python sets the module name to `__name__`\n",
    "- `__future__` - allows you to import functionality from future versions of Python\n",
    "\n",
    "- `__file__` - is the variable that contains the path to the python module \n",
    "    - Not always available (ie statically)\n",
    "    - absolute path\n",
    "- `__len__` - you can define a Class to have this method to call  `.len()`\n",
    "\n",
    "- `__annotations__` - prints out a function type hints\n"
   ]
  },
  {
   "cell_type": "markdown",
   "metadata": {
    "id": "9ybGcgDrlUBx"
   },
   "source": [
    "## Python built-in-fuctions\n",
    "\n",
    "- `print()` - \n",
    "- `input()` - Allows user input (so it pauses until user inputs data)\n",
    "- `int()` - \n",
    "- `float()` - \n",
    "- `complex()` - \n",
    "- `list()`\n",
    "- `tuple()`\n",
    "- `set()`\n",
    "- `any(x)` - if any are true\n",
    "- `all(x)` - if all are true\n"
   ]
  },
  {
   "cell_type": "markdown",
   "metadata": {
    "id": "P1WB5XYblUBz"
   },
   "source": [
    "## Helpful Packages\n",
    "\n",
    "- `geopy` - Helpful geocoding services with a range of different APIs\n",
    "\n",
    "\n",
    "## Extras\n",
    "\n",
    "- emojis in python `pip install emoji`"
   ]
  },
  {
   "cell_type": "markdown",
   "metadata": {
    "id": "TQxIlDktlUB1"
   },
   "source": [
    "## Python import system\n",
    "\n",
    "- Any module imported into another module runs it. Including print statements, variables, etc\n",
    "- each module is a class object in python\n",
    "- each object is stored in a module.__dict__ object\n",
    "- Not all modules are writen in python \n",
    "    - some writen in C or C++ for better performance\n",
    "- you can import from current package with `from . import mod2`\n",
    "- you can import from parent package with `from .. import mod1`\n",
    "- but you can't import \"relative\" meaning if `main.py` is in the same directory as a package you can't import that package \n",
    "- ![import_relative_error](images\\import_relative_error.png)\n",
    "- any variable that starts with \"_\" is not imported (E.g. `_x = 56`)\n",
    "    - this is to act like private variables\n",
    "\n",
    "\n",
    "- packages\n",
    "    - they are multiple modulates in a directory\n",
    "    - you import packages the same way you import modules in python\n",
    "    - packages will have the `__path__` variable to where the package is stored (modules don't)\n",
    "    - importing a package doesn't import the modules inside of them\n",
    "    - when you import `pkg.mod` (a module froma package) it imports the package as well\n",
    "    - two types of packages\n",
    "        - **regular packages**\n",
    "            - has one `__init__.py` in it\n",
    "                - can have print stats and functions\n",
    "                - code is compiled automaticaly\n",
    "            the `__file__` = the path to the `__init__`\n",
    "            \n",
    "        - **namespace packages**\n",
    "    - nested packages\n",
    "        - if you import a module in the most inner package it imports both packages\n",
    "        - but not the modules in the parent packages\n",
    "\n"
   ]
  },
  {
   "cell_type": "markdown",
   "metadata": {
    "id": "jtWMPlSHlUB3"
   },
   "source": [
    "## Python Regular expression (Regex)\n",
    "\n",
    "### Resources \n",
    "\n",
    "- [regex](https://www.w3schools.com/python/python_regex.asp)\n",
    "\n",
    "\n",
    "### Symbols\n",
    "\n",
    "- `^` - starts with\n",
    "- `+` - more than one ocurrance\n",
    "\n"
   ]
  },
  {
   "cell_type": "markdown",
   "metadata": {
    "id": "rnwEl2A6lUB7"
   },
   "source": [
    "## Python misc\n",
    "\n",
    "- [Lazy initialization](https://docs.sqlalchemy.org/en/14/glossary.html#term-lazy-initialization) - a tactic to delay some sort of initialization. It get initialized when a task need it. Often used for connections"
   ]
  },
  {
   "cell_type": "markdown",
   "metadata": {
    "id": "3oaHYDaJlUB9"
   },
   "source": [
    "## Pandas \n",
    "\n",
    "- `df.get(key, default=[])` allows to return a value "
   ]
  },
  {
   "cell_type": "markdown",
   "metadata": {
    "id": "02L2OGgLlUB_"
   },
   "source": [
    "## Docker\n",
    "\n",
    "TODO: How does Docker use the code that I changed?\n",
    "- It uses a directory based on `--mount` or `--volume`. This allows you to d\n",
    "\n",
    "- Also you don't need to (re-)build the Docker container\n",
    "\n",
    "### Docker Compose\n",
    "\n",
    "#### Docker compose commands\n",
    "\n",
    "- `docker-compose build` - to build the image\n",
    "- `docker-compose create` - to create the containers\n",
    "- `docker-compose start` - to start the built containers\n",
    "- `docker-compose up` - **build**, **create**, and **start** all container services\n",
    "    - Is the images are already built, created and started does nothing?\n",
    "- `docker-compose down`- aggresively teardown containers\n",
    "- `docker-compose stop` - to stop the running containers\n",
    "- `docker-compose restart` - re-run the containers, runs `stop` & `start`\n",
    "- `docker-compose run` - is for running a one-off command\n",
    "- `docker-compose <service_name>` - to `up` a particular service\n",
    "\n",
    "#### Variables & Build Args\n",
    "\n",
    "- env vars - can be assessible inside the running container\n",
    "\n",
    "```yaml\n",
    "\n",
    "\n",
    "```\n",
    "\n",
    "- build args - assessible only at build time\n",
    "    - build tool versions\n",
    "    - cloud platform configuration (i.e aws region)\n",
    "```yaml\n",
    "services\n",
    "    frontend:\n",
    "        build:\n",
    "            context:\n",
    "            args:\n",
    "                - <build_arg>=<value_no_spaces>\n",
    "\n",
    "```\n",
    "\n",
    "#### Docker compose about\n",
    "\n",
    "- multiple isolocated env on a single host\n",
    "- perserve volume data when containers are created\n",
    "- only recreate containers that have changed\n",
    "- variables and moving a composition between envriornments\n",
    "- file path in the yaml uses a bash syntax\n",
    "    - `./` - current working directory\n",
    "    - `../` - parent directory\n",
    "    - `/` - absolute path \n",
    "\n",
    "\n",
    "- #### Volumes\n",
    "    - when `docker-compose up` or `docker-compose restart` is run it finds any containers from previous runs, it copies the volumes from the old container to the new container. \n",
    "    - ensures the data is not lost\n",
    "- Docker compose in production\n",
    "    - modify your compose file for production\n",
    "        - removing any volume binding for application code (so the code can't be changed on the outside)\n",
    "        - binding to different ports on the host\n",
    "        - setting environment variables differently\n",
    "            - reducing verbosity of logging \n",
    "            - specify settings for external services (ie email service)\n",
    "        - `restart always` to avoid downtime\n",
    "        - adding extra services such as a log aggregator\n",
    "    - Consider having a differnt yml files for prod and dev\n",
    "    - or consider have multiple `docker-compose -f docker-compose.yml -f production.yml up -d`\n",
    "```yaml\n",
    "services:\n",
    "    db:\n",
    "        volume: \n",
    "            - <Source>:<target>:<read_and_write>\n",
    "\n",
    "```\n",
    "    - target is where the volume data is stored\n",
    "\n",
    "\n",
    "- Deploying changes\n",
    "    ```\n",
    "    docker-compose build web\n",
    "    docker-compose up --no-deps -d web\n",
    "    ```\n",
    "    - You don't need to remove images if your want to change ports or when you change something in the docker-compose.yml file\n",
    "\n",
    "\n",
    "    \n",
    "- Docker for CI / CD\n",
    "  - use docker compose with a test file to run and destroy file very easily  \n",
    "\n",
    "#### Depends\n",
    "\n",
    "- This tells docker compose that some services depend on the other services\n",
    "- services can have multiple dependencies\n",
    "- services can share a dependency\n",
    "\n",
    "```yaml\n",
    "\n",
    "services\n",
    "    frontend:\n",
    "        depends_on: \n",
    "            - database\n",
    "\n",
    "    database:\n",
    "```\n",
    "\n",
    "#### Named Subsets of services (Profiles) - I don't understand\n",
    "\n",
    "- when you want there to be only one system of services\n",
    "- only one docker-compose file\n",
    "- to explicitly configure dependencies\n",
    "- `docker-compose --profile [profile_name]\n",
    "\n",
    "```yaml\n",
    "\n",
    "services:\n",
    "    frontend:\n",
    "        profiles:\n",
    "            - frontend_services\n",
    "    scheduler:\n",
    "        profiles:\n",
    "            - scheduling_services\n",
    "    database:\n",
    "        profiles:\n",
    "            - frontend_services\n",
    "            - scheduling_services\n",
    "\n",
    "\n",
    "```\n",
    "\n",
    "#### Mulitple compose files\n",
    "\n",
    "- different bahaviours (E.g. evs)\n",
    "\n",
    "- by default docker compose reads\n",
    "    - `docker-compose.yml`\n",
    "    - `docker-compose.override.yaml`\n",
    "- docker compose will merge these two files together\n",
    "- override inherits from the main config file\n",
    "    - on merge, fields that can handle multiple values does, but the ones that can only handle will take the override value\n",
    "\n",
    "#### Main benefits\n",
    "\n",
    "- Version control saves the version of the docker container\n",
    "- self-documenting\n",
    "- Easy management\n",
    "\n",
    "#### Designed for\n",
    "\n",
    "- local development\n",
    "- staging server\n",
    "- continuous integration testing env\n",
    "- **not for**\n",
    "    - distributed systems (no tooling for running containers across multiple hosts)\n",
    "    - complex production env\n",
    "    - not for production (Docker Swarm and kubernetes) - because you can't scale"
   ]
  },
  {
   "cell_type": "markdown",
   "metadata": {
    "id": "locveJ0elUCD"
   },
   "source": [
    "## Software Developement Life cycle (SDLC) \n",
    "\n",
    "### Resources \n",
    "\n",
    "- [a good github read](https://gist.github.com/mdang/0fdd37a18be938214d9c)\n",
    "\n",
    "- Requirement Gathering\n",
    "- Planning\n",
    "- Designing\n",
    "- Developing\n",
    "- Testing\n",
    "- Deploying\n",
    "\n",
    "### Tech debt notes\n",
    "\n",
    "- Tech debt - is anything that was implemented but not what was suspected (the difference between what was promissed and what was actually delivered)\n",
    "- people often think architecture tasks is tech debt \n",
    "- pm often will often favourite new dev work compared to fixing slow architechture problems\n",
    "- **Work-around** - define what tech debt is in a team\n",
    "\n",
    "#### Tips\n",
    "- when a bug is found, automate a function to check for the bug\n",
    "- educate product owner on tech debts true cost\n",
    "- write automated tests and continuous integration\n",
    "- write a test to reproduce it\n",
    "\n",
    "\n",
    "### Standards\n",
    "\n",
    "- \n"
   ]
  },
  {
   "cell_type": "markdown",
   "metadata": {
    "id": "Iy4Ez0EolUCG"
   },
   "source": [
    "## Python Unit Testing\n",
    "\n",
    "### Pytest\n",
    "\n",
    "- open source\n",
    "- simple syntax \n",
    "- build-in support for test\n",
    "- allows you to run a standalone test function as its own case\n",
    "- east to read, uses asserts \n",
    "- powerful command line interfae\n",
    "- automates test setup, teardown and common test scenarios\n",
    "- great to use with CI tools like travis, Jenkins and Circle CI\n",
    "- actively maintained with a participatory open-source community\n",
    "\n",
    "- Pytest will automatically find method/functions that start with `test_`\n",
    "\n",
    "- **Name-based filtering**: You can limit pytest to running only those tests whose fully qualified names match a particular expression. You can do this with the -k parameter.\n",
    "- **Directory scoping**: By default, pytest will run only those tests that are in or under the current directory.\n",
    "- **Test categorization**: pytest can include or exclude tests from particular categories that you define. You can do this with the -m parameter.\n",
    "\n",
    "#### How to use\n",
    "\n",
    "- Run a docker file, and run files from a docker file\n",
    "- You can run `pytest` in container cmd for all the test\n",
    "    - or you can run `pytest -k word` where the `-k` is keyword and the word that you are matching against tests\n",
    "\n",
    "#### pytest markers\n",
    "\n",
    "- allows you too group {sanity, full system, etc}\n",
    "\n",
    "#### Pytest Fixtures\n",
    "\n",
    "- a fixture can be used in multiple tests to make sure it is true\n",
    "- automate test setup and teardown\n",
    "    - good for api, connections and db\n",
    "- you can scope to execute at different times in your test suite\n",
    "- (decorators) scopes are like what is included in those type of test (session, module, class, function)\n",
    "- factory fixture\n",
    "    - \n",
    "- the parameterize decorator (spelling is in british - parametrize)\n",
    "    - this allows you to pass variables to the test functions \n",
    "    - allows you to automate your test sencenios with different cases\n",
    "```python \n",
    "@pytest.mark.paramtrize(\"country,sta,expected\", [\n",
    "    ('USA', 'mean', 1641.42),\n",
    "    ('Canada', 'median', 9686.2),\n",
    "])\n",
    "```\n",
    "\n",
    "#### Pytest Hooks\n",
    "\n",
    "- they are defined in `conftest.py`\n",
    "\n",
    "\n",
    "### Test-Driven Development (TTD)\n",
    "\n",
    "Red: Write a test and watch it fail\n",
    "Green: Write just enough code to pass the test\n",
    "Refactor: Improve the code without changing it's behaviour\n",
    "\n",
    "### Happy Path Testing\n",
    "\n",
    "- organize positive cases into their own fucntions\n",
    "- make sure not to mix them with sad path or negative case functions\n",
    "- Instead of having large tests with many different types of cases, we can separate psotive and negative cases into their own functions.\n",
    "\n",
    "### Sad Path Testing\n",
    "\n",
    "- Negative test cases to validate against\n",
    "- two methods of handling sad path tests:\n",
    "    - halt the flow of the code execution or throw an exception\n",
    "    - log that an action could not be taken and continue code execution; ideally we should show this to the user\n",
    "- A sad path test should focus on how your system avoid unexpected behaviors that could degrade it's capabilities. The sad path test should also verify the system has handled the invalid behavior.\n",
    "\n",
    "```python\n",
    "import pytest\n",
    "\n",
    "def test_exponential():\n",
    "    with pytest.raises(OverflowError) as exp:\n",
    "        exponential()\n",
    "    assert str(exp.value) == 'math range error'\n",
    "\n",
    "```"
   ]
  },
  {
   "cell_type": "markdown",
   "metadata": {
    "id": "gDlM4m-FlUCO"
   },
   "source": [
    "## Python: Design patterns\n",
    "\n",
    "### Pattern Context\n",
    "\n",
    "- Participants\n",
    "    - The classes involved\n",
    "- Quality attributes\n",
    "    - Non-functional requirements\n",
    "        - usability\n",
    "        - modifiability\n",
    "        - reliability,\n",
    "        - performance\n",
    "        - etc \n",
    "    - Effects the entire software\n",
    "- forces\n",
    "    - various factors or trade-offs to consider\n",
    "        - manifested in quality attributes\n",
    "        - unintended consequences\n",
    "- consequences\n",
    "    - worse performance\n",
    "    - should choose consequences\n",
    "\n",
    "### Pattern Language\n",
    "\n",
    "### Factory\n",
    "\n",
    "- Allows you to create other objects\n",
    "- Good for when you don't know what type of objects you will need\n",
    "- decisions will be made at run time\n",
    "\n",
    "```python\n",
    "\n",
    "def get_pet(pet='dog'):\n",
    "    \"\"\" Factory Method\"\"\"\n",
    "\n",
    "    pets = dict(dog=Dog(name='frank'), cat=Cat(name='killer'))\n",
    "\n",
    "    return pets[pet]\n",
    "\n",
    "```\n",
    "\n",
    "### Abstract Factory \n",
    "\n",
    "### Singleton and Borg\n",
    "\n",
    "- Singleton\n",
    "    - Is when you only want one object created from a class\n",
    "    - Every module in python asks as a singleton\n",
    "- borg\n",
    "    - short for cyborg \n",
    "    - it is when you have many objects that all have the same attributes\n",
    "\n",
    "```python\n",
    "\n",
    "class Borg:\n",
    "\n",
    "    _shared_data = {}\n",
    "\n",
    "    def __init__(self):\n",
    "        self.__dict__ = self._shared_data\n",
    "\n",
    "class Singleton(Borg):\n",
    "\n",
    "    def __init__(self, **kwargs):\n",
    "        Borg.__init__(self)\n",
    "\n",
    "        # kwargs will be a key:value pair to add to the dictionary\n",
    "        self._shared_data.update(kwargs)\n",
    "\n",
    "    def __str__(self):\n",
    "        return str(self._shared_data)\n",
    "\n",
    "\n",
    "```\n",
    "\n",
    "### Builder\n",
    "\n",
    "- Think builder as if you wanted to build a care you would need to build the indivual parts first before you put them all together\n",
    "- [exampe](https://github.com/LinkedInLearning/python-design-patterns-2422610/blob/02_08e/builder_final.py)\n",
    "- **I don't understand** redo \n",
    "\n",
    "\n",
    "\n"
   ]
  },
  {
   "cell_type": "markdown",
   "metadata": {
    "id": "R-5-GKI-lUCS"
   },
   "source": [
    "## Coding Challengs"
   ]
  },
  {
   "cell_type": "code",
   "execution_count": null,
   "metadata": {
    "id": "3ovWnKMblUCT",
    "outputId": "8ddc6771-8b8f-484e-afe4-bbfd377dbd17"
   },
   "outputs": [
    {
     "name": "stdout",
     "output_type": "stream",
     "text": [
      "prime: 2  input:  315\n",
      "prime: 3  input:  105\n",
      "prime: 3  input:  35\n",
      "prime: 5  input:  7\n",
      "prime: 7  input:  1\n",
      "prime: 13  input:  1\n"
     ]
    },
    {
     "data": {
      "text/plain": [
       "[13]"
      ]
     },
     "execution_count": 10,
     "metadata": {},
     "output_type": "execute_result"
    }
   ],
   "source": [
    "def prime_factors(input: int) -> list[int]:\n",
    "\n",
    "    \"\"\"Find the prime factors\"\"\"\n",
    "    result = list()\n",
    "\n",
    "    while (input > 1 ):\n",
    "        for prime in range(2, input+1):\n",
    "            if input % prime == 0:\n",
    "                result.append(prime)\n",
    "                input = int(input/prime)\n",
    "                print(\"prime:\", prime, \" input: \", input)\n",
    "                break\n",
    "    \n",
    "    return result\n",
    "\n",
    "prime_factors(630)\n",
    "prime_factors(13)\n",
    "\n",
    "\n",
    "\n",
    "    \n",
    "\n"
   ]
  },
  {
   "cell_type": "code",
   "execution_count": null,
   "metadata": {
    "id": "GQKbIQynlUCf",
    "outputId": "ce5661fc-cccb-41eb-894b-c51976ba84bc"
   },
   "outputs": [
    {
     "name": "stdout",
     "output_type": "stream",
     "text": [
      "True\n",
      "False\n",
      "True\n",
      "True\n"
     ]
    }
   ],
   "source": [
    "import re\n",
    "\n",
    "\n",
    "def is_palindrome(input: str) -> bool:\n",
    "    '''\n",
    "    A palindrome is a sentence or word that can be spelt backwards\n",
    "\n",
    "    Test cases\n",
    "\n",
    "    \"racecar\" => True\n",
    "    \"Hello world\" => False\n",
    "    \"Go hang a salami - I'm a lasagna hog.\" => true\n",
    "\n",
    "    '''\n",
    "\n",
    "    result = True\n",
    "\n",
    "    new_input = input.lower()\n",
    "    \n",
    "    # Remove non letters a-z\n",
    "    new_input = re.sub(\"[^a-z]+\", '', new_input)\n",
    "    print (input, ' : ', new_input)\n",
    "\n",
    "    # only need to loop half way in the str\n",
    "    \n",
    "    for i in range(0, (int(len(input)/2))+1):\n",
    "        if not new_input[i] == new_input[(-1*(i+1))]: \n",
    "            result = False\n",
    "            break\n",
    "\n",
    "    return result\n",
    "\n",
    "# SOLUTION\n",
    "\n",
    "# def is_palindrome(input: str) -> bool:\n",
    "#     forward = ''.join(re.findall('[a-z]+', input.lower()))\n",
    "#     backwards = forward[::-1] # Copy of the string backwards\n",
    "\n",
    "#     return forward == backwards\n",
    "\n",
    "\n",
    "\n",
    "\n",
    "\n",
    "# Test cases\n",
    "print(is_palindrome('racecar'))\n",
    "print(is_palindrome('Hello world'))\n",
    "print(is_palindrome('Level'))\n",
    "print(is_palindrome('Go hang a salami - I\\'m a lasagna hog.'))\n",
    "\n"
   ]
  },
  {
   "cell_type": "code",
   "execution_count": null,
   "metadata": {
    "id": "7nkzZF4LlUCi",
    "outputId": "22841aaf-c831-4daf-fc57-0c43a2b0c632"
   },
   "outputs": [
    {
     "name": "stdout",
     "output_type": "stream",
     "text": [
      "of string words\n",
      "a big, cat\n",
      "apple banana ORANGE\n"
     ]
    }
   ],
   "source": [
    "# Sort a string\n",
    "\n",
    "def sort_words(input: str) -> str:\n",
    "    '''This function will sort a string by the words and return a string with spaces'''\n",
    "\n",
    "\n",
    "    result = input\n",
    "\n",
    "    # split by space\n",
    "    result = input.split(sep=' ')\n",
    "    \n",
    "    # Sort by values, return by key\n",
    "    dict_ = {key.lower():key for key in result }\n",
    "    result = sorted(dict_)\n",
    "    result = [dict_[e] for e in result]\n",
    "\n",
    "\n",
    "    result = ' '.join(result)\n",
    "\n",
    "\n",
    "\n",
    "    print('input: ', input, 'result: ', result)\n",
    "    str.c\n",
    "    return result\n",
    "\n",
    "# Solution\n",
    "\n",
    "# def sort_words(input: str) -> str:\n",
    "#     return ' '.join(sorted(input.split(' '), key=str.casefold))\n",
    "\n",
    "\n",
    "print(sort_words('string of words'))\n",
    "print(sort_words('a big, cat'))\n",
    "print(sort_words('banana ORANGE apple'))"
   ]
  },
  {
   "cell_type": "code",
   "execution_count": null,
   "metadata": {
    "id": "ClIzmozSlUCk",
    "outputId": "9433e435-7fe5-4e36-ea22-84e137975be1"
   },
   "outputs": [
    {
     "name": "stdout",
     "output_type": "stream",
     "text": [
      "[0, 2, 4, 5, 6]\n",
      "[]\n",
      "[]\n"
     ]
    }
   ],
   "source": [
    "import numpy as np\n",
    "\n",
    "def find_all(list_: list, value) -> list[int]:\n",
    "\n",
    "    '''This function will look for the value in a list and return all the indices.\n",
    "       It must handle all dimentional lists\n",
    "    '''\n",
    "    result = []\n",
    "    for index, element in enumerate(list_):\n",
    "\n",
    "        while True:\n",
    "        if element == value:\n",
    "            result.append(index)\n",
    "\n",
    "    return result\n",
    "\n",
    "#improvement\n",
    "# def find_all(list_: list, value) -> list[int]:\n",
    "\n",
    "#     '''This function will look for the value in a list and return all the indices.\n",
    "#        This is an improvement of list compresension \n",
    "#     '''\n",
    "    \n",
    "#     return [index for index, element in enumerate(list_) if element == value]\n",
    "\n",
    "print(find_all([1,2,1,3,1,1,1], 1))\n",
    "print(find_all([1,2,1,3,1,1,1], 9))\n",
    "print(find_all([[1,2,1],[3,1,1],[1]], 1))\n",
    "print(find_all([[[1,2,1]],[3,1,1],1], 1)) # [ [0][0][0], [0][0][2], [1][1], [1][2], [2]]"
   ]
  },
  {
   "cell_type": "code",
   "execution_count": null,
   "metadata": {
    "id": "YgtKyRe-lUCo",
    "outputId": "4f78ea18-cd52-426b-849b-e5d58c27d868"
   },
   "outputs": [
    {
     "name": "stdout",
     "output_type": "stream",
     "text": [
      "3\n",
      "3\n",
      "(2,)\n",
      "(3,)\n"
     ]
    },
    {
     "name": "stderr",
     "output_type": "stream",
     "text": [
      "C:\\Users\\eq04252\\AppData\\Local\\Temp/ipykernel_19356/1707032687.py:2: VisibleDeprecationWarning: Creating an ndarray from ragged nested sequences (which is a list-or-tuple of lists-or-tuples-or ndarrays with different lengths or shapes) is deprecated. If you meant to do this, you must specify 'dtype=object' when creating the ndarray\n",
      "  temp = np.array([\n",
      "C:\\Users\\eq04252\\AppData\\Local\\Temp/ipykernel_19356/1707032687.py:9: VisibleDeprecationWarning: Creating an ndarray from ragged nested sequences (which is a list-or-tuple of lists-or-tuples-or ndarrays with different lengths or shapes) is deprecated. If you meant to do this, you must specify 'dtype=object' when creating the ndarray\n",
      "  print(np.array(temp[0]).shape)\n"
     ]
    }
   ],
   "source": [
    "import numpy as np\n",
    "temp = np.array([ \n",
    "    [[1,2,1], [2]],\n",
    "    [3,1,1],\n",
    "    1])\n",
    "\n",
    "print(len(temp))\n",
    "print(len(temp[1]))\n",
    "print(np.array(temp[0]).shape)\n",
    "print(temp.shape)"
   ]
  },
  {
   "cell_type": "code",
   "execution_count": null,
   "metadata": {
    "id": "umYYolM1lUCp"
   },
   "outputs": [],
   "source": [
    ""
   ]
  }
 ],
 "metadata": {
  "interpreter": {
   "hash": "b1e52c16918e71cfdb47c83e9e3a322ca579d5c147358442a6f19a167a3cdddd"
  },
  "kernelspec": {
   "display_name": "Python 3.8.8 64-bit ('Nexus_emili': conda)",
   "language": "python",
   "name": "python3"
  },
  "language_info": {
   "codemirror_mode": {
    "name": "ipython",
    "version": 3
   },
   "file_extension": ".py",
   "mimetype": "text/x-python",
   "name": "python",
   "nbconvert_exporter": "python",
   "pygments_lexer": "ipython3",
   "version": "3.9.7"
  },
  "metadata": {
   "interpreter": {
    "hash": "095b6d31360fad048184cffd57648f3f9e5d4d175e775ab0a59cba3dc9335d19"
   }
  },
  "orig_nbformat": 2,
  "colab": {
   "name": "BONUS: python_notes - example.ipynb",
   "provenance": []
  }
 },
 "nbformat": 4,
 "nbformat_minor": 0
}
